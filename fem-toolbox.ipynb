{
 "cells": [
  {
   "cell_type": "markdown",
   "metadata": {},
   "source": [
    "#### constitutive equations\n",
    "$$\\begin{align}\n",
    "J_n &= q n \\mu_n \\vec{E} + qD_n \\nabla n \\\\\n",
    "J_p &= q_p \\mu_p \\vec{E} - qD_p \\nabla p \\\\\n",
    "\\vec{E} &= -\\nabla \\phi\n",
    "\\end{align}$$\n",
    "\n",
    "#### drift-diffusion formulation\n",
    "\n",
    "#### finite elements\n",
    "$$ \\Lambda _n (x)$$\n",
    "\n",
    "\n",
    "\n",
    "#### weak form:\n",
    "$$\\begin{align}\n",
    "\\int_\\Omega -\\nabla\\cdot ( D\\nabla \\cdot u + \\mu \\cdot u)\\Lambda _n &= - \\int_\\Omega f \\Lambda_n \\\\\n",
    "\\Rightarrow \\int_\\Omega ( D\\nabla \\cdot u + \\mu \\cdot u) \\Lambda _n &= - \\int_\\Omega f \\Lambda_n \\\\\n",
    "\n",
    "\\end{align} $$"
   ]
  },
  {
   "cell_type": "code",
   "execution_count": 96,
   "metadata": {},
   "outputs": [],
   "source": [
    "import numpy, scipy\n",
    "import matplotlib.pyplot as plt\n",
    "\n",
    "class Domain:\n",
    "    def __init__(self, number, bounds = [float(0), float(1)]):\n",
    "        self.number = number\n",
    "        self.domain = numpy.linspace(*(bounds+[number]))\n",
    "        self.deltah = float((bounds[1]-bounds[0])/number)\n",
    "    \n",
    "class Field:\n",
    "    def __init__(self, name, number):\n",
    "        self.name = name\n",
    "        self.data = numpy.zeros(number)\n",
    "        \n",
    "class Stencil:\n",
    "    def __init__(self, S):\n",
    "        self.op = numpy.array(S)\n",
    "    def apply(self, stiffnessMatrix):\n",
    "        return stiffnessMatrix\n",
    "\n",
    "class Assembler:\n",
    "    def __init__(self, X, B):\n",
    "        self.unknowns = X\n",
    "        \n",
    "class Problem:\n",
    "    def __init__(self, number, bounds = [float(0), float(1)]):\n",
    "        self.omega = Domain(number, bounds)\n",
    "        self.unknown = Field(\"default\", number)\n",
    "        self.num_unknowns = number\n",
    "        \n",
    "    def plotDomain(self):\n",
    "        plt.scatter(self.omega.domain, numpy.zeros(self.num_unknowns), color = 'black')\n",
    "        \n",
    "    def plotSolution(self):\n",
    "        plt.scatter(self.omega.domain, self.unknown.data, color = 'blue')"
   ]
  },
  {
   "cell_type": "code",
   "execution_count": 97,
   "metadata": {},
   "outputs": [
    {
     "data": {
      "image/png": "[encoded data removed]",
      "text/plain": [
       "<Figure size 432x288 with 1 Axes>"
      ]
     },
     "metadata": {},
     "output_type": "display_data"
    }
   ],
   "source": [
    "dd = Problem(7, [1,2])\n",
    "dd.plotDomain()\n",
    "dd.plotSolution()"
   ]
  },
  {
   "cell_type": "code",
   "execution_count": 55,
   "metadata": {},
   "outputs": [
    {
     "data": {
      "text/plain": [
       "array([0., 0., 0., 0., 0., 0., 0., 0., 0., 0., 0., 0., 0., 0., 0., 0., 0.,\n",
       "       0., 0., 0.])"
      ]
     },
     "execution_count": 55,
     "metadata": {},
     "output_type": "execute_result"
    }
   ],
   "source": [
    "numpy.zeros(20)"
   ]
  },
  {
   "cell_type": "code",
   "execution_count": null,
   "metadata": {},
   "outputs": [],
   "source": []
  },
  {
   "cell_type": "markdown",
   "metadata": {},
   "source": [
    "-(au' + bu)' + f = 0\n",
    "\\int (au' + bu)\\Lambda + bdy terms = -\\int f\\Lambda\n"
   ]
  },
  {
   "cell_type": "code",
   "execution_count": null,
   "metadata": {},
   "outputs": [],
   "source": []
  },
  {
   "cell_type": "code",
   "execution_count": 9,
   "metadata": {},
   "outputs": [],
   "source": [
    "laplacian = Stencil(numpy.array([-1,2,-1]))\n",
    "laplacian"
   ]
  },
  {
   "cell_type": "code",
   "execution_count": 11,
   "metadata": {},
   "outputs": [
    {
     "name": "stdout",
     "output_type": "stream",
     "text": [
      "[-1  2 -1]\n"
     ]
    }
   ],
   "source": [
    "print laplacian.op"
   ]
  },
  {
   "cell_type": "code",
   "execution_count": 36,
   "metadata": {},
   "outputs": [
    {
     "name": "stdout",
     "output_type": "stream",
     "text": [
      "0:  |F(x)| = 626.642; step 1; tol 0.000157679\n",
      "1:  |F(x)| = 234.793; step 1; tol 0.12635\n",
      "2:  |F(x)| = 114.96; step 1; tol 0.215756\n",
      "3:  |F(x)| = 24.1227; step 1; tol 0.0396281\n",
      "4:  |F(x)| = 1.53242; step 1; tol 0.00363199\n",
      "5:  |F(x)| = 0.118362; step 1; tol 0.00536927\n",
      "6:  |F(x)| = 0.00888126; step 1; tol 0.00506715\n",
      "7:  |F(x)| = 0.000125069; step 1; tol 0.00017848\n",
      "Residual: 5.79042e-06\n"
     ]
    },
    {
     "data": {
      "image/png": "[encoded data removed]",
      "text/plain": [
       "<Figure size 432x288 with 2 Axes>"
      ]
     },
     "metadata": {},
     "output_type": "display_data"
    }
   ],
   "source": [
    "%matplotlib inline\n",
    "import numpy as np\n",
    "from scipy.optimize import newton_krylov\n",
    "from numpy import cosh, zeros_like, mgrid, zeros\n",
    "\n",
    "# parameters\n",
    "nx, ny = 75, 75\n",
    "hx, hy = 1./(nx-1), 1./(ny-1)\n",
    "\n",
    "P_left, P_right = 0, 0\n",
    "P_top, P_bottom = 1, 0\n",
    "\n",
    "def residual(P):\n",
    "    d2x = zeros_like(P)\n",
    "    d2y = zeros_like(P)\n",
    "\n",
    "    d2x[1:-1] = (P[2:]   - 2*P[1:-1] + P[:-2]) / hx/hx\n",
    "    d2x[0]    = (P[1]    - 2*P[0]    + P_left)/hx/hx\n",
    "    d2x[-1]   = (P_right - 2*P[-1]   + P[-2])/hx/hx\n",
    "\n",
    "    d2y[:,1:-1] = (P[:,2:] - 2*P[:,1:-1] + P[:,:-2])/hy/hy\n",
    "    d2y[:,0]    = (P[:,1]  - 2*P[:,0]    + P_bottom)/hy/hy\n",
    "    d2y[:,-1]   = (P_top   - 2*P[:,-1]   + P[:,-2])/hy/hy\n",
    "\n",
    "    return d2x + d2y - 10*cosh(P).mean()**2\n",
    "\n",
    "# solve\n",
    "guess = zeros((nx, ny), float)\n",
    "sol = newton_krylov(residual, guess, method='lgmres', verbose=1)\n",
    "print('Residual: %g' % abs(residual(sol)).max())\n",
    "\n",
    "# visualize\n",
    "import matplotlib.pyplot as plt\n",
    "x, y = mgrid[0:1:(nx*1j), 0:1:(ny*1j)]\n",
    "plt.pcolor(x, y, sol)\n",
    "plt.colorbar()\n",
    "plt.show()"
   ]
  },
  {
   "cell_type": "code",
   "execution_count": null,
   "metadata": {},
   "outputs": [],
   "source": []
  }
 ],
 "metadata": {
  "kernelspec": {
   "display_name": "Python 2",
   "language": "python",
   "name": "python2"
  },
  "language_info": {
   "codemirror_mode": {
    "name": "ipython",
    "version": 2
   },
   "file_extension": ".py",
   "mimetype": "text/x-python",
   "name": "python",
   "nbconvert_exporter": "python",
   "pygments_lexer": "ipython2",
   "version": "2.7.15"
  }
 },
 "nbformat": 4,
 "nbformat_minor": 2
}
